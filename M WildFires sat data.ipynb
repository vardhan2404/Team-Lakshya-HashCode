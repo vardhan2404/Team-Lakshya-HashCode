{
 "cells": [
  {
   "cell_type": "code",
   "execution_count": 1,
   "id": "356d1f62",
   "metadata": {},
   "outputs": [],
   "source": [
    "import tensorflow as tf\n",
    "from tensorflow.keras import layers, models\n",
    "# https://www.kaggle.com/datasets/abdelghaniaaba/wildfire-prediction-dataset"
   ]
  },
  {
   "cell_type": "code",
   "execution_count": null,
   "id": "29f24e51",
   "metadata": {},
   "outputs": [],
   "source": [
    "import os\n",
    "from PIL import Image\n",
    "\n",
    "root_dir = \"/path/to/dataset\"\n",
    "min_size = 56\n",
    "\n",
    "for subdir, dirs, files in os.walk(root_dir):\n",
    "    for file in files:\n",
    "        filepath = os.path.join(subdir, file)\n",
    "        try:\n",
    "            with Image.open(filepath) as im:\n",
    "                if im.size[0]*im.size[1] < min_size:\n",
    "                    os.remove(filepath)\n",
    "                    print(f\"{filepath} removed.\")\n",
    "        except:\n",
    "            os.remove(filepath)\n",
    "            print(f\"{filepath} removed.\")\n"
   ]
  },
  {
   "cell_type": "code",
   "execution_count": 10,
   "id": "9517c056",
   "metadata": {},
   "outputs": [],
   "source": [
    "import os\n",
    "from PIL import Image\n",
    "\n",
    "def is_image_truncated(filepath):\n",
    "    try:\n",
    "        with Image.open(filepath) as img:\n",
    "            img.verify()\n",
    "    except:\n",
    "        return True\n",
    "    return False\n",
    "\n",
    "def clean_dataset(root_dir):\n",
    "    for dirpath, dirnames, filenames in os.walk(root_dir):\n",
    "        for filename in filenames:\n",
    "            filepath = os.path.join(dirpath, filename)\n",
    "            if is_image_truncated(filepath):\n",
    "                print(f\"Removing {filepath}\")\n",
    "                os.remove(filepath)\n",
    "\n",
    "# root_dir = \"path/to/your/dataset\"\n",
    "clean_dataset(\"C:/Users/Bhavani K/Desktop/M GANESHV12/M PES/M SEM 4/M hashcode/test/nowildfire\")\n",
    "clean_dataset(\"C:/Users/Bhavani K/Desktop/M GANESHV12/M PES/M SEM 4/M hashcode/test/wildfire\")\n",
    "clean_dataset(\"C:/Users/Bhavani K/Desktop/M GANESHV12/M PES/M SEM 4/M hashcode/valid/nowildfire\")\n",
    "clean_dataset(\"C:/Users/Bhavani K/Desktop/M GANESHV12/M PES/M SEM 4/M hashcode/valid/wildfire\")\n",
    "clean_dataset(\"C:/Users/Bhavani K/Desktop/M GANESHV12/M PES/M SEM 4/M hashcode/train/nowildfire\")\n",
    "clean_dataset(\"C:/Users/Bhavani K/Desktop/M GANESHV12/M PES/M SEM 4/M hashcode/train/wildfire\")\n"
   ]
  },
  {
   "cell_type": "code",
   "execution_count": 12,
   "id": "4f40f4ea",
   "metadata": {},
   "outputs": [
    {
     "name": "stdout",
     "output_type": "stream",
     "text": [
      "Found 30250 images belonging to 2 classes.\n",
      "Found 6300 images belonging to 2 classes.\n",
      "Found 6300 images belonging to 2 classes.\n"
     ]
    }
   ],
   "source": [
    "train_datagen = tf.keras.preprocessing.image.ImageDataGenerator(rescale=1./255)\n",
    "train_generator = train_datagen.flow_from_directory(\n",
    "        'train/',\n",
    "        target_size=(150, 150),\n",
    "        batch_size=32,\n",
    "        class_mode='binary')\n",
    "\n",
    "validation_datagen = tf.keras.preprocessing.image.ImageDataGenerator(rescale=1./255)\n",
    "validation_generator = validation_datagen.flow_from_directory(\n",
    "        'valid/',\n",
    "        target_size=(150, 150),\n",
    "        batch_size=32,\n",
    "        class_mode='binary')\n",
    "\n",
    "test_datagen = tf.keras.preprocessing.image.ImageDataGenerator(rescale=1./255)\n",
    "test_generator = test_datagen.flow_from_directory(\n",
    "        'test/',\n",
    "        target_size=(150, 150),\n",
    "        batch_size=32,\n",
    "        class_mode='binary')\n"
   ]
  },
  {
   "cell_type": "code",
   "execution_count": 13,
   "id": "36b45695",
   "metadata": {},
   "outputs": [],
   "source": [
    "model = models.Sequential()\n",
    "model.add(layers.Conv2D(32, (3, 3), activation='relu', input_shape=(150, 150, 3)))\n",
    "model.add(layers.MaxPooling2D((2, 2)))\n",
    "model.add(layers.Conv2D(64, (3, 3), activation='relu'))\n",
    "model.add(layers.MaxPooling2D((2, 2)))\n",
    "model.add(layers.Conv2D(128, (3, 3), activation='relu'))\n",
    "model.add(layers.MaxPooling2D((2, 2)))\n",
    "model.add(layers.Conv2D(128, (3, 3), activation='relu'))\n",
    "model.add(layers.MaxPooling2D((2, 2)))\n",
    "model.add(layers.Flatten())\n",
    "model.add(layers.Dense(512, activation='relu'))\n",
    "model.add(layers.Dense(1, activation='sigmoid'))\n"
   ]
  },
  {
   "cell_type": "code",
   "execution_count": 16,
   "id": "0269da2b",
   "metadata": {},
   "outputs": [
    {
     "name": "stderr",
     "output_type": "stream",
     "text": [
      "WARNING:absl:`lr` is deprecated, please use `learning_rate` instead, or use the legacy optimizer, e.g.,tf.keras.optimizers.legacy.RMSprop.\n"
     ]
    }
   ],
   "source": [
    "model.compile(loss='binary_crossentropy',\n",
    "              optimizer=tf.keras.optimizers.RMSprop(lr=1e-4),\n",
    "              metrics=['accuracy'])\n"
   ]
  },
  {
   "cell_type": "code",
   "execution_count": 7,
   "id": "fccbf062",
   "metadata": {},
   "outputs": [
    {
     "name": "stdout",
     "output_type": "stream",
     "text": [
      "Epoch 1/10\n",
      "50/50 [==============================] - 39s 779ms/step - loss: 0.2781 - accuracy: 0.8856 - val_loss: 0.2722 - val_accuracy: 0.8863\n",
      "Epoch 2/10\n",
      "50/50 [==============================] - 40s 805ms/step - loss: 0.2879 - accuracy: 0.8819 - val_loss: 0.2043 - val_accuracy: 0.9144\n",
      "Epoch 3/10\n",
      "50/50 [==============================] - 39s 789ms/step - loss: 0.2674 - accuracy: 0.8821 - val_loss: 0.2905 - val_accuracy: 0.8919\n",
      "Epoch 4/10\n",
      "50/50 [==============================] - 39s 781ms/step - loss: 0.2461 - accuracy: 0.9062 - val_loss: 0.2130 - val_accuracy: 0.9194\n",
      "Epoch 5/10\n",
      "50/50 [==============================] - 39s 774ms/step - loss: 0.2257 - accuracy: 0.9125 - val_loss: 0.1897 - val_accuracy: 0.9219\n",
      "Epoch 6/10\n",
      "50/50 [==============================] - 40s 794ms/step - loss: 0.2425 - accuracy: 0.9094 - val_loss: 0.3128 - val_accuracy: 0.8781\n",
      "Epoch 7/10\n",
      "50/50 [==============================] - 39s 776ms/step - loss: 0.2258 - accuracy: 0.9162 - val_loss: 0.1959 - val_accuracy: 0.9287\n",
      "Epoch 8/10\n",
      "50/50 [==============================] - 41s 830ms/step - loss: 0.2156 - accuracy: 0.9119 - val_loss: 0.1748 - val_accuracy: 0.9356\n",
      "Epoch 9/10\n",
      "50/50 [==============================] - 285s 6s/step - loss: 0.2025 - accuracy: 0.9300 - val_loss: 0.1842 - val_accuracy: 0.9331\n",
      "Epoch 10/10\n",
      "50/50 [==============================] - 36s 721ms/step - loss: 0.2147 - accuracy: 0.9237 - val_loss: 0.1580 - val_accuracy: 0.9513\n"
     ]
    }
   ],
   "source": [
    "history = model.fit(train_generator,\n",
    "                    steps_per_epoch=50,\n",
    "                    epochs=10,\n",
    "                    validation_data=validation_generator,\n",
    "                    validation_steps=50)\n"
   ]
  },
  {
   "cell_type": "code",
   "execution_count": 1,
   "id": "1c7269e4",
   "metadata": {},
   "outputs": [],
   "source": [
    "# test_loss, test_acc = model.evaluate(test_generator)\n",
    "# print('Test accuracy:', test_acc)\n"
   ]
  },
  {
   "cell_type": "code",
   "execution_count": null,
   "id": "1a361597",
   "metadata": {},
   "outputs": [],
   "source": [
    "import numpy as np\n",
    "from tensorflow.keras.preprocessing import image\n",
    "\n",
    "img_path = \"C:/Users/Bhavani K/Desktop/M GANESHV12/M PES/M SEM 4/M hashcode/test/wildfire/-60.6867,50.26079.jpg\"\n",
    "# \"C:\\Users\\Bhavani K\\Desktop\\M GANESHV12\\M PES\\M SEM 4\\M hashcode\\test\\wildfire\\-60.6867,50.26079.jpg\"\n",
    "img = image.load_img(img_path, target_size=(150, 150))\n",
    "img_array = image.img_to_array(img)\n",
    "img_array = np.expand_dims(img_array, axis=0)\n",
    "img_array /= 255.\n",
    "\n",
    "prediction = model.predict(img_array)\n",
    "if prediction < 0.5:\n",
    "    print(\"The image is not a wildfire.\")\n",
    "else:\n",
    "    print(\"The image is a wildfire.\")\n"
   ]
  },
  {
   "cell_type": "code",
   "execution_count": null,
   "id": "14b2cc7d",
   "metadata": {},
   "outputs": [],
   "source": [
    "import numpy as np\n",
    "from tensorflow.keras.preprocessing import image\n",
    "\n",
    "def predict_image(image_path, model):\n",
    "    img = image.load_img(image_path, target_size=(150, 150))\n",
    "    img_array = image.img_to_array(img)\n",
    "    img_array = np.expand_dims(img_array, axis=0)\n",
    "    img_array /= 255.\n",
    "\n",
    "    prediction = model.predict(img_array)\n",
    "    if prediction < 0.5:\n",
    "        return \"The image is not a wildfire.\"\n",
    "    else:\n",
    "        return \"The image is a wildfire.\"\n",
    "\n",
    "    \n",
    "image_path = 'path/to/new/image.jpg'\n",
    "prediction = predict_image(image_path, model)\n",
    "print(prediction)\n"
   ]
  }
 ],
 "metadata": {
  "kernelspec": {
   "display_name": "Python 3.10.9 ('base')",
   "language": "python",
   "name": "python3"
  },
  "language_info": {
   "codemirror_mode": {
    "name": "ipython",
    "version": 3
   },
   "file_extension": ".py",
   "mimetype": "text/x-python",
   "name": "python",
   "nbconvert_exporter": "python",
   "pygments_lexer": "ipython3",
   "version": "3.10.9"
  },
  "vscode": {
   "interpreter": {
    "hash": "3c06e3e46abf38078fe4dac36a0085ec2b134ebbd73dd076183d243eeca6918f"
   }
  }
 },
 "nbformat": 4,
 "nbformat_minor": 5
}
